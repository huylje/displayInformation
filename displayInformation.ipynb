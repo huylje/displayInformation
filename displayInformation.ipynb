{
 "cells": [
  {
   "cell_type": "code",
   "execution_count": 1,
   "id": "c3a26113-8930-45af-8737-3b3cddfcd78c",
   "metadata": {},
   "outputs": [
    {
     "name": "stdout",
     "output_type": "stream",
     "text": [
      "Họ tên: Lê Trang\n",
      "Ngày sinh: 1997\n",
      "Địa chỉ: Hà Nội\n",
      "Mục đích học tập: Biết thêm kiến thức và kỹ năng liên quan đến lập trình.\n"
     ]
    }
   ],
   "source": [
    "print (\"Họ tên: Lê Trang\")\n",
    "print (\"Ngày sinh: 1997\")\n",
    "print (\"Địa chỉ: Hà Nội\")\n",
    "print (\"Mục đích học tập: Biết thêm kiến thức và kỹ năng liên quan đến lập trình.\")"
   ]
  }
 ],
 "metadata": {
  "kernelspec": {
   "display_name": "Python 3 (ipykernel)",
   "language": "python",
   "name": "python3"
  },
  "language_info": {
   "codemirror_mode": {
    "name": "ipython",
    "version": 3
   },
   "file_extension": ".py",
   "mimetype": "text/x-python",
   "name": "python",
   "nbconvert_exporter": "python",
   "pygments_lexer": "ipython3",
   "version": "3.12.3"
  }
 },
 "nbformat": 4,
 "nbformat_minor": 5
}
